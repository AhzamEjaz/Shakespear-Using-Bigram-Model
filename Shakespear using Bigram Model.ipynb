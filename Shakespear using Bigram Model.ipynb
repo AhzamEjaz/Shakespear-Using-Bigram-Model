{
 "cells": [
  {
   "cell_type": "code",
   "execution_count": 1,
   "id": "5866270b-a360-494e-8f03-27cce4d58b4f",
   "metadata": {
    "tags": []
   },
   "outputs": [],
   "source": [
    "import os\n",
    "file_path = os.path.join('.\\data\\shakespear', 'input.txt')"
   ]
  },
  {
   "cell_type": "code",
   "execution_count": 2,
   "id": "8ef012ed-85d2-4795-8f65-58506f54d7fb",
   "metadata": {
    "tags": []
   },
   "outputs": [
    {
     "name": "stdout",
     "output_type": "stream",
     "text": [
      "First Citizen:\n",
      "Before we proceed any further, hear me speak.\n",
      "\n",
      "All:\n",
      "Speak, speak.\n",
      "\n",
      "First Citizen:\n",
      "You\n"
     ]
    }
   ],
   "source": [
    "with open(file_path, 'r', encoding = 'utf-8') as f:\n",
    "    text_data = f.read()\n",
    "print(text_data[:100])"
   ]
  },
  {
   "cell_type": "code",
   "execution_count": 3,
   "id": "30c4826b-9f2d-42d3-8898-70232516be9a",
   "metadata": {
    "tags": []
   },
   "outputs": [
    {
     "name": "stdout",
     "output_type": "stream",
     "text": [
      "65\n"
     ]
    }
   ],
   "source": [
    "chars = sorted(set(text_data))\n",
    "ttl_chars = len(chars)\n",
    "print(ttl_chars)"
   ]
  },
  {
   "cell_type": "code",
   "execution_count": 4,
   "id": "147a29f6-b1e3-43a2-aa06-80e963472374",
   "metadata": {
    "tags": []
   },
   "outputs": [],
   "source": [
    "# Building an encoder\n",
    "string_to_int = {ch:i for i,ch in enumerate(chars)}\n",
    "int_to_string = {i:ch for i,ch in enumerate(chars)}\n",
    "\n",
    "encode = lambda s: [string_to_int[c] for c in s]\n",
    "decode = lambda t: ''.join(int_to_string[i] for i in t)"
   ]
  },
  {
   "cell_type": "code",
   "execution_count": 5,
   "id": "31a4c855-4e8c-40b8-9443-3b2a9040b6f6",
   "metadata": {
    "tags": []
   },
   "outputs": [
    {
     "data": {
      "text/plain": [
       "'hello'"
      ]
     },
     "execution_count": 5,
     "metadata": {},
     "output_type": "execute_result"
    }
   ],
   "source": [
    "encode('hello')\n",
    "decode([46,43,50,50,53])"
   ]
  },
  {
   "cell_type": "code",
   "execution_count": 6,
   "id": "d2496661-aa12-457e-8269-6b115daf2136",
   "metadata": {
    "tags": []
   },
   "outputs": [
    {
     "data": {
      "text/plain": [
       "tensor([18, 47, 56,  ..., 45,  8,  0])"
      ]
     },
     "execution_count": 6,
     "metadata": {},
     "output_type": "execute_result"
    }
   ],
   "source": [
    "# Convert to tensor\n",
    "import torch\n",
    "data = torch.tensor(encode(text_data))\n",
    "data"
   ]
  },
  {
   "cell_type": "code",
   "execution_count": 7,
   "id": "04283267-85e0-4bfa-a8fb-dcab37043f9a",
   "metadata": {
    "tags": []
   },
   "outputs": [
    {
     "name": "stdout",
     "output_type": "stream",
     "text": [
      "torch.Size([1003854])\n"
     ]
    }
   ],
   "source": [
    "# Training and validation split\n",
    "n = int(0.9*len(data))\n",
    "train_dataset = data[:n]\n",
    "test_dataset = data[n:]\n",
    "print(train_dataset.shape)"
   ]
  },
  {
   "cell_type": "code",
   "execution_count": 8,
   "id": "6b59aa00-0b5f-4de2-acaa-210ad3d274d7",
   "metadata": {
    "tags": []
   },
   "outputs": [
    {
     "data": {
      "text/plain": [
       "tensor([18, 47, 56, 57, 58,  1, 15, 47])"
      ]
     },
     "execution_count": 8,
     "metadata": {},
     "output_type": "execute_result"
    }
   ],
   "source": [
    "context_length = 8\n",
    "train_dataset[:context_length]"
   ]
  },
  {
   "cell_type": "code",
   "execution_count": 9,
   "id": "b56ac5ac-706f-4a5e-a555-99a1c85cb1fe",
   "metadata": {
    "tags": []
   },
   "outputs": [
    {
     "name": "stdout",
     "output_type": "stream",
     "text": [
      "input:\ttensor([18]), target:47\n",
      "input:\ttensor([18, 47]), target:56\n",
      "input:\ttensor([18, 47, 56]), target:57\n",
      "input:\ttensor([18, 47, 56, 57]), target:58\n",
      "input:\ttensor([18, 47, 56, 57, 58]), target:1\n",
      "input:\ttensor([18, 47, 56, 57, 58,  1]), target:15\n",
      "input:\ttensor([18, 47, 56, 57, 58,  1, 15]), target:47\n",
      "input:\ttensor([18, 47, 56, 57, 58,  1, 15, 47]), target:58\n"
     ]
    }
   ],
   "source": [
    "for i in range(context_length):\n",
    "    print(f'input:\\t{train_dataset[:i+1]}, target:{train_dataset[i+1]}')"
   ]
  },
  {
   "cell_type": "code",
   "execution_count": 10,
   "id": "2f831ebd-c9c2-4dc3-aa50-581a6a22b765",
   "metadata": {
    "tags": []
   },
   "outputs": [],
   "source": [
    "batch_size = 32\n",
    "def get_batch(tag):\n",
    "    data = train_dataset if tag == 'train' else test_dataset\n",
    "    random_select = torch.randint(len(data) - context_length, (batch_size,))\n",
    "    x = torch.stack([data[random_select[i]:random_select[i]+context_length] for i in range(batch_size)])\n",
    "    y = torch.stack([data[random_select[i]+1:random_select[i]+context_length+1] for i in range(batch_size)])\n",
    "    return x, y\n"
   ]
  },
  {
   "cell_type": "code",
   "execution_count": 11,
   "id": "053a13fb-95b7-4140-84db-83ce02b10b42",
   "metadata": {
    "tags": []
   },
   "outputs": [
    {
     "name": "stdout",
     "output_type": "stream",
     "text": [
      "\n",
      "YQ:MQDwlGI&iMy''SukDweCFnuOZK.tl'mvuULODKqaLBvnpHRgD\n",
      "YeT3.ElAT:FlewhBkiEl,rQp&RGaOME V\n",
      "Yqbqrmn'rpSgS\n"
     ]
    }
   ],
   "source": [
    "xa, ya = get_batch('train') \n",
    "\n",
    "import torch.nn as nn\n",
    "from torch.nn import functional as F\n",
    "class BigramLM(nn.Module):\n",
    "    def __init__(self, vocab_size):\n",
    "        super().__init__()\n",
    "        self.embed_table = nn.Embedding(vocab_size, vocab_size)\n",
    "    def forward(self, x):\n",
    "        logits = self.embed_table(x)\n",
    "        return logits\n",
    "    def generate(self, idx, max_token):\n",
    "        for _ in range(max_token):\n",
    "            # get the predictions\n",
    "            logits = self(idx)\n",
    "            # focus only on the last time step\n",
    "            logits = logits[:, -1, :] # becomes (B, C)\n",
    "            # apply softmax to get probabilities\n",
    "            probs = F.softmax(logits, dim=-1) # (B, C)\n",
    "            # sample from the distribution\n",
    "            idx_next = torch.multinomial(probs, num_samples=1) # (B, 1)\n",
    "            # append sampled index to the running sequence\n",
    "            idx = torch.cat((idx, idx_next), dim=1) # (B, T+1)\n",
    "        return idx\n",
    "model = BigramLM(ttl_chars)\n",
    "pred = model(xa)\n",
    "Bx, Tx, Cx = pred.shape\n",
    "pred = pred.view(Bx*Tx, Cx)\n",
    "\n",
    "By, Ty= ya.shape\n",
    "ya = ya.view(By* Ty)\n",
    "\n",
    "loss = F.cross_entropy(pred, ya)\n",
    "preds = model.generate(torch.zeros([1,1], dtype=torch.long), max_token=100)[0].tolist()\n",
    "print(decode(preds))"
   ]
  },
  {
   "cell_type": "code",
   "execution_count": 12,
   "id": "68352eb1-d62b-4c81-bd42-2e6a99985b06",
   "metadata": {
    "tags": []
   },
   "outputs": [
    {
     "name": "stdout",
     "output_type": "stream",
     "text": [
      "Training started....\n",
      "[0]loss: 4.453802585601807\n",
      "[1]loss: 2.575896739959717\n",
      "[2]loss: 2.557229518890381\n",
      "[3]loss: 2.477609634399414\n",
      "[4]loss: 2.4003138542175293\n",
      "[5]loss: 2.322665214538574\n",
      "[6]loss: 2.469020128250122\n",
      "[7]loss: 2.338414430618286\n",
      "[8]loss: 2.4343395233154297\n",
      "[9]loss: 2.6186931133270264\n",
      "[10]loss: 2.3292877674102783\n",
      "[11]loss: 2.584660768508911\n",
      "[12]loss: 2.4424679279327393\n",
      "[13]loss: 2.4709999561309814\n",
      "[14]loss: 2.474611759185791\n",
      "[15]loss: 2.441274642944336\n",
      "[16]loss: 2.5717992782592773\n",
      "[17]loss: 2.4400172233581543\n",
      "[18]loss: 2.395275831222534\n",
      "[19]loss: 2.48649525642395\n",
      "[20]loss: 2.3784546852111816\n",
      "[21]loss: 2.45674729347229\n",
      "[22]loss: 2.253178358078003\n",
      "[23]loss: 2.340001344680786\n",
      "[24]loss: 2.5674846172332764\n",
      "[25]loss: 2.5497093200683594\n",
      "[26]loss: 2.4975435733795166\n",
      "[27]loss: 2.4589734077453613\n",
      "[28]loss: 2.2757670879364014\n",
      "[29]loss: 2.418140172958374\n",
      "[30]loss: 2.4019079208374023\n",
      "[31]loss: 2.3905115127563477\n",
      "[32]loss: 2.3215482234954834\n",
      "[33]loss: 2.422468662261963\n",
      "[34]loss: 2.472975969314575\n",
      "[35]loss: 2.374558448791504\n",
      "[36]loss: 2.48643159866333\n",
      "[37]loss: 2.620680570602417\n",
      "[38]loss: 2.489837646484375\n",
      "[39]loss: 2.3480496406555176\n",
      "[40]loss: 2.2996013164520264\n",
      "[41]loss: 2.5680935382843018\n",
      "[42]loss: 2.4854142665863037\n",
      "[43]loss: 2.4464049339294434\n",
      "[44]loss: 2.250436305999756\n",
      "[45]loss: 2.5502047538757324\n",
      "[46]loss: 2.404379367828369\n",
      "[47]loss: 2.5048112869262695\n",
      "[48]loss: 2.4543824195861816\n",
      "[49]loss: 2.5054876804351807\n",
      "[50]loss: 2.563220739364624\n",
      "[51]loss: 2.757105827331543\n",
      "[52]loss: 2.4144012928009033\n",
      "[53]loss: 2.443932056427002\n",
      "[54]loss: 2.463731050491333\n",
      "[55]loss: 2.6356401443481445\n",
      "[56]loss: 2.4168930053710938\n",
      "[57]loss: 2.4570841789245605\n",
      "[58]loss: 2.4652369022369385\n",
      "[59]loss: 2.437912702560425\n",
      "[60]loss: 2.2845165729522705\n",
      "[61]loss: 2.328340768814087\n",
      "[62]loss: 2.4057869911193848\n",
      "[63]loss: 2.462702989578247\n",
      "[64]loss: 2.3011062145233154\n",
      "[65]loss: 2.392730236053467\n",
      "[66]loss: 2.5484116077423096\n",
      "[67]loss: 2.459735631942749\n",
      "[68]loss: 2.2779593467712402\n",
      "[69]loss: 2.333925485610962\n",
      "[70]loss: 2.544959783554077\n",
      "[71]loss: 2.3858485221862793\n",
      "[72]loss: 2.713427782058716\n",
      "[73]loss: 2.5087239742279053\n",
      "[74]loss: 2.2962844371795654\n",
      "[75]loss: 2.4865074157714844\n",
      "[76]loss: 2.4808621406555176\n",
      "[77]loss: 2.6058285236358643\n",
      "[78]loss: 2.3911566734313965\n",
      "[79]loss: 2.250004768371582\n",
      "Training Done\n"
     ]
    }
   ],
   "source": [
    "iters = 400000\n",
    "optimizer = torch.optim.Adam(model.parameters(), lr=0.001)\n",
    "batch_size = 16\n",
    "counter = 0\n",
    "print('Training started....')\n",
    "for itere in range(iters):\n",
    "    xb, yb = get_batch('train')\n",
    "    pred = model(xb)\n",
    "    Bx, Tx, Cx = pred.shape\n",
    "    pred = pred.view(Bx*Tx, Cx)\n",
    "\n",
    "    By, Ty= yb.shape\n",
    "    yb = yb.view(By* Ty)\n",
    "\n",
    "    loss = F.cross_entropy(pred, yb)\n",
    "    optimizer.zero_grad(set_to_none= True)\n",
    "    loss.backward()\n",
    "    optimizer.step()\n",
    "    \n",
    "    if(itere%5000 == 0): \n",
    "        print(f'[{counter}]loss: {loss.item()}')\n",
    "        counter+=1\n",
    "print('Training Done')"
   ]
  },
  {
   "cell_type": "code",
   "execution_count": 13,
   "id": "da3e74f9-c020-467e-b895-db053840b495",
   "metadata": {
    "tags": []
   },
   "outputs": [
    {
     "name": "stdout",
     "output_type": "stream",
     "text": [
      " th cenornen.\n",
      "Thated;\n",
      "Or besatlepll sthin nut ot thilke weay s y y tse\n",
      "Thtos' tonof s h hicthy.\n",
      "TENGot cke f bale m, mecerarrot s y CUKERCKIUCK:\n",
      "Hof me ir heoucl incren, t spolowof sungrdinderto bllke cem?\n",
      "O:\n",
      "I e, d,-pann fave oucorou ithe dur is\n",
      "\n",
      "RO:\n",
      "Wolizele,\n",
      "\n",
      "CIAPe, rclithemy cearee wstil ws ie nt in KETh'd che he ot he manmye belitl l\n",
      "\n",
      "\n",
      "\n",
      "Bu tin\n",
      "\n",
      "THathande bup:\n",
      "Sodo g\n",
      "Wed indserpl,\n",
      "O: ille\n",
      "'dierowaidrchone masus je POfo anour?\n",
      "Ange he hive hithepalesustealugot'mis.\n",
      "T:\n",
      "\n",
      "BRI:\n",
      "Twhil a t fthoue l \n"
     ]
    }
   ],
   "source": [
    "preds = model.generate(torch.ones([1,1], dtype=torch.long), max_token=500)[0].tolist()\n",
    "print(decode(preds))"
   ]
  }
 ],
 "metadata": {
  "kernelspec": {
   "display_name": "Python 3 (ipykernel)",
   "language": "python",
   "name": "python3"
  },
  "language_info": {
   "codemirror_mode": {
    "name": "ipython",
    "version": 3
   },
   "file_extension": ".py",
   "mimetype": "text/x-python",
   "name": "python",
   "nbconvert_exporter": "python",
   "pygments_lexer": "ipython3",
   "version": "3.11.4"
  }
 },
 "nbformat": 4,
 "nbformat_minor": 5
}
